{
 "cells": [
  {
   "cell_type": "code",
   "execution_count": 106,
   "metadata": {
    "collapsed": false
   },
   "outputs": [],
   "source": [
    "# import tensorboard\n",
    "from keras.callbacks import TensorBoard\n",
    "import time"
   ]
  },
  {
   "cell_type": "code",
   "execution_count": 107,
   "metadata": {
    "collapsed": true
   },
   "outputs": [],
   "source": [
    "# building the CNN"
   ]
  },
  {
   "cell_type": "code",
   "execution_count": null,
   "metadata": {
    "collapsed": false
   },
   "outputs": [],
   "source": []
  },
  {
   "cell_type": "code",
   "execution_count": 108,
   "metadata": {
    "collapsed": false
   },
   "outputs": [],
   "source": [
    "from keras.models import Sequential"
   ]
  },
  {
   "cell_type": "code",
   "execution_count": 109,
   "metadata": {
    "collapsed": true
   },
   "outputs": [],
   "source": [
    "from keras.layers import Convolution2D"
   ]
  },
  {
   "cell_type": "code",
   "execution_count": 110,
   "metadata": {
    "collapsed": false
   },
   "outputs": [],
   "source": [
    "from keras.layers import MaxPooling2D"
   ]
  },
  {
   "cell_type": "code",
   "execution_count": 111,
   "metadata": {
    "collapsed": true
   },
   "outputs": [],
   "source": [
    "from keras.layers import Flatten"
   ]
  },
  {
   "cell_type": "code",
   "execution_count": 112,
   "metadata": {
    "collapsed": true
   },
   "outputs": [],
   "source": [
    "from keras.layers import Dense"
   ]
  },
  {
   "cell_type": "code",
   "execution_count": 113,
   "metadata": {
    "collapsed": true
   },
   "outputs": [],
   "source": [
    "from keras.layers import Dropout"
   ]
  },
  {
   "cell_type": "code",
   "execution_count": null,
   "metadata": {
    "collapsed": true
   },
   "outputs": [],
   "source": []
  },
  {
   "cell_type": "code",
   "execution_count": null,
   "metadata": {
    "collapsed": true
   },
   "outputs": [],
   "source": []
  },
  {
   "cell_type": "code",
   "execution_count": null,
   "metadata": {
    "collapsed": false
   },
   "outputs": [],
   "source": []
  },
  {
   "cell_type": "code",
   "execution_count": null,
   "metadata": {
    "collapsed": true
   },
   "outputs": [],
   "source": []
  },
  {
   "cell_type": "code",
   "execution_count": null,
   "metadata": {
    "collapsed": true
   },
   "outputs": [],
   "source": []
  },
  {
   "cell_type": "code",
   "execution_count": null,
   "metadata": {
    "collapsed": false
   },
   "outputs": [],
   "source": []
  },
  {
   "cell_type": "code",
   "execution_count": 114,
   "metadata": {
    "collapsed": false
   },
   "outputs": [
    {
     "name": "stderr",
     "output_type": "stream",
     "text": [
      "/home/tmp/ENTER/lib/python3.5/site-packages/ipykernel/__main__.py:24: UserWarning: Update your `Dense` call to the Keras 2 API: `Dense(units=64, activation=\"relu\")`\n",
      "/home/tmp/ENTER/lib/python3.5/site-packages/ipykernel/__main__.py:30: UserWarning: Update your `Dense` call to the Keras 2 API: `Dense(units=1, activation=\"sigmoid\")`\n"
     ]
    }
   ],
   "source": [
    "#initializing CNN\n",
    "classifier = Sequential()\n",
    "\n",
    "# add convolution layer\n",
    "# for tf backend\n",
    "classifier.add(Convolution2D(32,(3,3),padding='same',input_shape=(64,64,3),activation='relu'))\n",
    "# 32 feature detectors of shape 3,3\n",
    "# add pooling layer\n",
    "classifier.add(MaxPooling2D(pool_size=(2,2)))\n",
    "\n",
    "# seond conv layer\n",
    "classifier.add(Convolution2D(32,(3,3),activation='relu'))\n",
    "classifier.add(MaxPooling2D(pool_size=(2,2)))\n",
    "\n",
    "#third conv layer\n",
    "classifier.add(Convolution2D(64,(3,3),activation='relu'))\n",
    "classifier.add(MaxPooling2D(pool_size=(2,2)))\n",
    "\n",
    "\n",
    "# flattening\n",
    "classifier.add(Flatten())\n",
    "\n",
    "# adding fully connected layer\n",
    "classifier.add(Dense(output_dim=64,activation='relu'))\n",
    "# classifier.add(Dropout(0.1))\n",
    "# classifier.add(Dense(output_dim=64,activation='relu'))\n",
    "# classifier.add(Dropout(0.1))\n",
    "# classifier.add(Dense(output_dim=64,activation='relu'))\n",
    "\n",
    "classifier.add(Dense(output_dim=1,activation='sigmoid'))\n",
    "\n",
    "# compiling the CNN\n",
    "classifier.compile(optimizer = 'adam', loss='binary_crossentropy', metrics=['accuracy'])\n",
    "\n",
    "\n"
   ]
  },
  {
   "cell_type": "code",
   "execution_count": 115,
   "metadata": {
    "collapsed": true
   },
   "outputs": [],
   "source": [
    "# fitting the data"
   ]
  },
  {
   "cell_type": "code",
   "execution_count": 116,
   "metadata": {
    "collapsed": true
   },
   "outputs": [],
   "source": [
    "from keras.preprocessing.image import ImageDataGenerator"
   ]
  },
  {
   "cell_type": "code",
   "execution_count": 117,
   "metadata": {
    "collapsed": false
   },
   "outputs": [],
   "source": [
    "train_datagen = ImageDataGenerator(\n",
    "        rescale=1./255,\n",
    "        shear_range=0.2,\n",
    "        zoom_range=0.2,\n",
    "        horizontal_flip=True)\n",
    "\n",
    "test_datagen = ImageDataGenerator(rescale=1./255)"
   ]
  },
  {
   "cell_type": "code",
   "execution_count": 118,
   "metadata": {
    "collapsed": false
   },
   "outputs": [
    {
     "name": "stdout",
     "output_type": "stream",
     "text": [
      "Found 8000 images belonging to 2 classes.\n"
     ]
    }
   ],
   "source": [
    "training_set = train_datagen.flow_from_directory(\n",
    "        '../instructor/dataset/training_set',\n",
    "        target_size=(64,64),\n",
    "        batch_size=32,\n",
    "        class_mode='binary')"
   ]
  },
  {
   "cell_type": "code",
   "execution_count": 119,
   "metadata": {
    "collapsed": false
   },
   "outputs": [
    {
     "name": "stdout",
     "output_type": "stream",
     "text": [
      "Found 2000 images belonging to 2 classes.\n"
     ]
    }
   ],
   "source": [
    "test_set = test_datagen.flow_from_directory(\n",
    "        '../instructor/dataset/test_set',\n",
    "        target_size=(64,64),\n",
    "        batch_size=32,\n",
    "        class_mode='binary')"
   ]
  },
  {
   "cell_type": "code",
   "execution_count": 120,
   "metadata": {
    "collapsed": false
   },
   "outputs": [
    {
     "data": {
      "text/plain": [
       "1507984805.6872842"
      ]
     },
     "execution_count": 120,
     "metadata": {},
     "output_type": "execute_result"
    }
   ],
   "source": [
    "time.time()"
   ]
  },
  {
   "cell_type": "code",
   "execution_count": null,
   "metadata": {
    "collapsed": true
   },
   "outputs": [],
   "source": [
    "# from keras import callbacks\n",
    "# remote = callbacks.RemoteMonitor(root='http://0.0.0.0:8000')"
   ]
  },
  {
   "cell_type": "code",
   "execution_count": null,
   "metadata": {
    "collapsed": false,
    "scrolled": true
   },
   "outputs": [
    {
     "name": "stdout",
     "output_type": "stream",
     "text": [
      "INFO:tensorflow:Summary name conv2d_17/kernel:0 is illegal; using conv2d_17/kernel_0 instead.\n",
      "INFO:tensorflow:Summary name conv2d_17/kernel:0 is illegal; using conv2d_17/kernel_0 instead.\n",
      "INFO:tensorflow:Summary name conv2d_17/bias:0 is illegal; using conv2d_17/bias_0 instead.\n",
      "INFO:tensorflow:Summary name conv2d_17/bias:0 is illegal; using conv2d_17/bias_0 instead.\n",
      "INFO:tensorflow:Summary name conv2d_18/kernel:0 is illegal; using conv2d_18/kernel_0 instead.\n",
      "INFO:tensorflow:Summary name conv2d_18/kernel:0 is illegal; using conv2d_18/kernel_0 instead.\n",
      "INFO:tensorflow:Summary name conv2d_18/bias:0 is illegal; using conv2d_18/bias_0 instead.\n",
      "INFO:tensorflow:Summary name conv2d_18/bias:0 is illegal; using conv2d_18/bias_0 instead.\n",
      "INFO:tensorflow:Summary name conv2d_19/kernel:0 is illegal; using conv2d_19/kernel_0 instead.\n",
      "INFO:tensorflow:Summary name conv2d_19/kernel:0 is illegal; using conv2d_19/kernel_0 instead.\n",
      "INFO:tensorflow:Summary name conv2d_19/bias:0 is illegal; using conv2d_19/bias_0 instead.\n",
      "INFO:tensorflow:Summary name conv2d_19/bias:0 is illegal; using conv2d_19/bias_0 instead.\n",
      "INFO:tensorflow:Summary name dense_22/kernel:0 is illegal; using dense_22/kernel_0 instead.\n",
      "INFO:tensorflow:Summary name dense_22/kernel:0 is illegal; using dense_22/kernel_0 instead.\n",
      "INFO:tensorflow:Summary name dense_22/bias:0 is illegal; using dense_22/bias_0 instead.\n",
      "INFO:tensorflow:Summary name dense_22/bias:0 is illegal; using dense_22/bias_0 instead.\n",
      "INFO:tensorflow:Summary name dense_23/kernel:0 is illegal; using dense_23/kernel_0 instead.\n",
      "INFO:tensorflow:Summary name dense_23/kernel:0 is illegal; using dense_23/kernel_0 instead.\n",
      "INFO:tensorflow:Summary name dense_23/bias:0 is illegal; using dense_23/bias_0 instead.\n",
      "INFO:tensorflow:Summary name dense_23/bias:0 is illegal; using dense_23/bias_0 instead.\n",
      "Epoch 1/100\n",
      "250/250 [==============================] - 119s - loss: 0.6933 - acc: 0.5346 - val_loss: 0.7557 - val_acc: 0.5000\n",
      "Epoch 2/100\n",
      "250/250 [==============================] - 117s - loss: 0.6638 - acc: 0.5925 - val_loss: 0.6538 - val_acc: 0.5945\n",
      "Epoch 3/100\n",
      "250/250 [==============================] - 118s - loss: 0.6060 - acc: 0.6656 - val_loss: 0.6192 - val_acc: 0.6630\n",
      "Epoch 4/100\n",
      "250/250 [==============================] - 118s - loss: 0.5711 - acc: 0.6999 - val_loss: 0.5446 - val_acc: 0.7210\n",
      "Epoch 5/100\n",
      "250/250 [==============================] - 118s - loss: 0.5431 - acc: 0.7240 - val_loss: 0.5286 - val_acc: 0.7390\n",
      "Epoch 6/100\n",
      "250/250 [==============================] - 117s - loss: 0.5201 - acc: 0.7388 - val_loss: 0.4931 - val_acc: 0.7732\n",
      "Epoch 7/100\n",
      "250/250 [==============================] - 117s - loss: 0.5061 - acc: 0.7488 - val_loss: 0.5041 - val_acc: 0.7530\n",
      "Epoch 8/100\n",
      "250/250 [==============================] - 115s - loss: 0.4873 - acc: 0.7625 - val_loss: 0.4833 - val_acc: 0.7700\n",
      "Epoch 9/100\n",
      "250/250 [==============================] - 118s - loss: 0.4684 - acc: 0.7774 - val_loss: 0.4536 - val_acc: 0.8000\n",
      "Epoch 10/100\n",
      "250/250 [==============================] - 119s - loss: 0.4566 - acc: 0.7883 - val_loss: 0.5027 - val_acc: 0.7630\n",
      "Epoch 11/100\n",
      "250/250 [==============================] - 118s - loss: 0.4542 - acc: 0.7825 - val_loss: 0.4333 - val_acc: 0.8009\n",
      "Epoch 12/100\n",
      "250/250 [==============================] - 117s - loss: 0.4332 - acc: 0.7956 - val_loss: 0.4485 - val_acc: 0.8015\n",
      "Epoch 13/100\n",
      "250/250 [==============================] - 116s - loss: 0.4266 - acc: 0.8022 - val_loss: 0.4458 - val_acc: 0.7985\n",
      "Epoch 14/100\n",
      "250/250 [==============================] - 117s - loss: 0.4165 - acc: 0.8111 - val_loss: 0.4170 - val_acc: 0.8070\n",
      "Epoch 15/100\n",
      "250/250 [==============================] - 118s - loss: 0.4193 - acc: 0.8035 - val_loss: 0.4035 - val_acc: 0.8160\n",
      "Epoch 16/100\n",
      "250/250 [==============================] - 118s - loss: 0.4057 - acc: 0.8140 - val_loss: 0.4119 - val_acc: 0.8175\n",
      "Epoch 17/100\n",
      "250/250 [==============================] - 115s - loss: 0.4024 - acc: 0.8190 - val_loss: 0.3910 - val_acc: 0.8330\n",
      "Epoch 18/100\n",
      "250/250 [==============================] - 114s - loss: 0.3903 - acc: 0.8201 - val_loss: 0.3848 - val_acc: 0.8315\n",
      "Epoch 19/100\n",
      "250/250 [==============================] - 115s - loss: 0.3754 - acc: 0.8317 - val_loss: 0.3889 - val_acc: 0.8330\n",
      "Epoch 20/100\n",
      "250/250 [==============================] - 117s - loss: 0.3791 - acc: 0.8259 - val_loss: 0.3912 - val_acc: 0.8340\n",
      "Epoch 21/100\n",
      "250/250 [==============================] - 117s - loss: 0.3759 - acc: 0.8299 - val_loss: 0.4048 - val_acc: 0.8090\n",
      "Epoch 22/100\n",
      "250/250 [==============================] - 117s - loss: 0.3652 - acc: 0.8342 - val_loss: 0.3819 - val_acc: 0.8300\n",
      "Epoch 23/100\n",
      "250/250 [==============================] - 117s - loss: 0.3527 - acc: 0.8391 - val_loss: 0.3830 - val_acc: 0.8305\n",
      "Epoch 24/100\n",
      "250/250 [==============================] - 116s - loss: 0.3570 - acc: 0.8406 - val_loss: 0.3709 - val_acc: 0.8360\n",
      "Epoch 25/100\n",
      "250/250 [==============================] - 117s - loss: 0.3374 - acc: 0.8444 - val_loss: 0.3690 - val_acc: 0.8325\n",
      "Epoch 26/100\n",
      "250/250 [==============================] - 115s - loss: 0.3401 - acc: 0.8520 - val_loss: 0.3530 - val_acc: 0.8400\n",
      "Epoch 27/100\n",
      "250/250 [==============================] - 111s - loss: 0.3269 - acc: 0.8514 - val_loss: 0.3652 - val_acc: 0.8400\n",
      "Epoch 28/100\n",
      "250/250 [==============================] - 112s - loss: 0.3301 - acc: 0.8509 - val_loss: 0.3415 - val_acc: 0.8590\n",
      "Epoch 29/100\n",
      "250/250 [==============================] - 112s - loss: 0.3167 - acc: 0.8651 - val_loss: 0.3800 - val_acc: 0.8330\n",
      "Epoch 30/100\n",
      "250/250 [==============================] - 114s - loss: 0.3137 - acc: 0.8624 - val_loss: 0.3669 - val_acc: 0.8520\n",
      "Epoch 31/100\n",
      "250/250 [==============================] - 113s - loss: 0.3033 - acc: 0.8660 - val_loss: 0.3608 - val_acc: 0.8460\n",
      "Epoch 32/100\n",
      "250/250 [==============================] - 113s - loss: 0.3036 - acc: 0.8689 - val_loss: 0.3417 - val_acc: 0.8508\n",
      "Epoch 33/100\n",
      "250/250 [==============================] - 114s - loss: 0.3031 - acc: 0.8673 - val_loss: 0.4481 - val_acc: 0.8220\n",
      "Epoch 34/100\n",
      "250/250 [==============================] - 113s - loss: 0.2940 - acc: 0.8726 - val_loss: 0.3677 - val_acc: 0.8315\n",
      "Epoch 35/100\n",
      "250/250 [==============================] - 115s - loss: 0.2809 - acc: 0.8825 - val_loss: 0.3558 - val_acc: 0.8575\n",
      "Epoch 36/100\n",
      "250/250 [==============================] - 115s - loss: 0.2817 - acc: 0.8783 - val_loss: 0.4159 - val_acc: 0.8380\n",
      "Epoch 37/100\n",
      "250/250 [==============================] - 117s - loss: 0.2760 - acc: 0.8830 - val_loss: 0.3406 - val_acc: 0.8620\n",
      "Epoch 38/100\n",
      "250/250 [==============================] - 113s - loss: 0.2677 - acc: 0.8881 - val_loss: 0.4053 - val_acc: 0.8480\n",
      "Epoch 39/100\n",
      "250/250 [==============================] - 115s - loss: 0.2592 - acc: 0.8859 - val_loss: 0.4296 - val_acc: 0.8335\n",
      "Epoch 40/100\n",
      "250/250 [==============================] - 112s - loss: 0.2665 - acc: 0.8875 - val_loss: 0.3666 - val_acc: 0.8455\n",
      "Epoch 41/100\n",
      "250/250 [==============================] - 116s - loss: 0.2625 - acc: 0.8875 - val_loss: 0.3744 - val_acc: 0.8465\n",
      "Epoch 42/100\n",
      "250/250 [==============================] - 115s - loss: 0.2497 - acc: 0.8932 - val_loss: 0.4392 - val_acc: 0.8445\n",
      "Epoch 43/100\n",
      "250/250 [==============================] - 116s - loss: 0.2501 - acc: 0.8973 - val_loss: 0.3712 - val_acc: 0.8415\n",
      "Epoch 44/100\n",
      "250/250 [==============================] - 120s - loss: 0.2456 - acc: 0.8939 - val_loss: 0.3971 - val_acc: 0.8360\n",
      "Epoch 45/100\n",
      "250/250 [==============================] - 120s - loss: 0.2475 - acc: 0.8947 - val_loss: 0.3827 - val_acc: 0.8380\n",
      "Epoch 46/100\n",
      "250/250 [==============================] - 119s - loss: 0.2320 - acc: 0.9020 - val_loss: 0.3921 - val_acc: 0.8435\n",
      "Epoch 47/100\n",
      "250/250 [==============================] - 116s - loss: 0.2415 - acc: 0.8916 - val_loss: 0.3744 - val_acc: 0.8570\n",
      "Epoch 48/100\n",
      "250/250 [==============================] - 115s - loss: 0.2249 - acc: 0.9087 - val_loss: 0.4065 - val_acc: 0.8260\n",
      "Epoch 49/100\n",
      "250/250 [==============================] - 119s - loss: 0.2319 - acc: 0.9029 - val_loss: 0.4049 - val_acc: 0.8580\n",
      "Epoch 50/100\n",
      "250/250 [==============================] - 118s - loss: 0.2282 - acc: 0.9030 - val_loss: 0.3524 - val_acc: 0.8545\n",
      "Epoch 51/100\n",
      "250/250 [==============================] - 117s - loss: 0.2137 - acc: 0.9096 - val_loss: 0.3774 - val_acc: 0.8535\n",
      "Epoch 52/100\n",
      "250/250 [==============================] - 120s - loss: 0.2153 - acc: 0.9103 - val_loss: 0.3402 - val_acc: 0.8625\n",
      "Epoch 53/100\n",
      "250/250 [==============================] - 122s - loss: 0.2189 - acc: 0.9080 - val_loss: 0.3978 - val_acc: 0.8475\n",
      "Epoch 54/100\n",
      "250/250 [==============================] - 122s - loss: 0.2224 - acc: 0.9081 - val_loss: 0.4144 - val_acc: 0.8480\n",
      "Epoch 55/100\n",
      "250/250 [==============================] - 121s - loss: 0.2088 - acc: 0.9161 - val_loss: 0.4574 - val_acc: 0.8385\n",
      "Epoch 56/100\n",
      "250/250 [==============================] - 120s - loss: 0.2027 - acc: 0.9179 - val_loss: 0.4114 - val_acc: 0.8455\n",
      "Epoch 57/100\n",
      "250/250 [==============================] - 122s - loss: 0.2005 - acc: 0.9151 - val_loss: 0.3794 - val_acc: 0.8415\n",
      "Epoch 58/100\n",
      "250/250 [==============================] - 121s - loss: 0.1985 - acc: 0.9171 - val_loss: 0.4094 - val_acc: 0.8410\n",
      "Epoch 59/100\n",
      "250/250 [==============================] - 119s - loss: 0.2015 - acc: 0.9164 - val_loss: 0.3983 - val_acc: 0.8545\n",
      "Epoch 60/100\n",
      "250/250 [==============================] - 118s - loss: 0.2039 - acc: 0.9147 - val_loss: 0.4263 - val_acc: 0.8435\n",
      "Epoch 61/100\n",
      "250/250 [==============================] - 116s - loss: 0.1963 - acc: 0.9180 - val_loss: 0.4168 - val_acc: 0.8550\n",
      "Epoch 62/100\n",
      "250/250 [==============================] - 117s - loss: 0.1882 - acc: 0.9191 - val_loss: 0.4397 - val_acc: 0.8530\n",
      "Epoch 63/100\n",
      "250/250 [==============================] - 117s - loss: 0.1759 - acc: 0.9281 - val_loss: 0.4447 - val_acc: 0.8520\n",
      "Epoch 64/100\n",
      "250/250 [==============================] - 118s - loss: 0.1899 - acc: 0.9228 - val_loss: 0.4585 - val_acc: 0.8450\n",
      "Epoch 65/100\n",
      "250/250 [==============================] - 110s - loss: 0.1790 - acc: 0.9280 - val_loss: 0.4007 - val_acc: 0.8535\n",
      "Epoch 66/100\n",
      "250/250 [==============================] - 111s - loss: 0.1763 - acc: 0.9272 - val_loss: 0.4752 - val_acc: 0.8520\n",
      "Epoch 67/100\n",
      "250/250 [==============================] - 112s - loss: 0.1701 - acc: 0.9324 - val_loss: 0.4456 - val_acc: 0.8350\n",
      "Epoch 68/100\n",
      "250/250 [==============================] - 112s - loss: 0.1767 - acc: 0.9286 - val_loss: 0.4303 - val_acc: 0.8500\n",
      "Epoch 69/100\n",
      "250/250 [==============================] - 112s - loss: 0.1749 - acc: 0.9284 - val_loss: 0.4601 - val_acc: 0.8470\n",
      "Epoch 70/100\n",
      "250/250 [==============================] - 113s - loss: 0.1794 - acc: 0.9269 - val_loss: 0.4563 - val_acc: 0.8450\n",
      "Epoch 71/100\n",
      "250/250 [==============================] - 112s - loss: 0.1759 - acc: 0.9286 - val_loss: 0.4254 - val_acc: 0.8495\n",
      "Epoch 72/100\n",
      "250/250 [==============================] - 114s - loss: 0.1749 - acc: 0.9275 - val_loss: 0.4544 - val_acc: 0.8410\n",
      "Epoch 73/100\n",
      "250/250 [==============================] - 114s - loss: 0.1657 - acc: 0.9310 - val_loss: 0.4898 - val_acc: 0.8355\n",
      "Epoch 74/100\n",
      "250/250 [==============================] - 113s - loss: 0.1697 - acc: 0.9301 - val_loss: 0.4210 - val_acc: 0.8455\n",
      "Epoch 75/100\n",
      "250/250 [==============================] - 112s - loss: 0.1659 - acc: 0.9335 - val_loss: 0.4564 - val_acc: 0.8390\n",
      "Epoch 76/100\n",
      "250/250 [==============================] - 110s - loss: 0.1630 - acc: 0.9315 - val_loss: 0.4564 - val_acc: 0.8500\n",
      "Epoch 77/100\n",
      "250/250 [==============================] - 112s - loss: 0.1731 - acc: 0.9307 - val_loss: 0.4562 - val_acc: 0.8475\n",
      "Epoch 78/100\n",
      "250/250 [==============================] - 112s - loss: 0.1601 - acc: 0.9369 - val_loss: 0.4531 - val_acc: 0.8395\n",
      "Epoch 79/100\n",
      "250/250 [==============================] - 112s - loss: 0.1571 - acc: 0.9354 - val_loss: 0.5404 - val_acc: 0.8355\n",
      "Epoch 80/100\n",
      "250/250 [==============================] - 112s - loss: 0.1597 - acc: 0.9366 - val_loss: 0.4939 - val_acc: 0.8510\n",
      "Epoch 81/100\n",
      "250/250 [==============================] - 113s - loss: 0.1549 - acc: 0.9364 - val_loss: 0.4746 - val_acc: 0.8505\n",
      "Epoch 82/100\n",
      "250/250 [==============================] - 113s - loss: 0.1422 - acc: 0.9404 - val_loss: 0.4499 - val_acc: 0.8520\n",
      "Epoch 83/100\n",
      "250/250 [==============================] - 114s - loss: 0.1478 - acc: 0.9416 - val_loss: 0.4575 - val_acc: 0.8455\n",
      "Epoch 84/100\n",
      "250/250 [==============================] - 113s - loss: 0.1506 - acc: 0.9355 - val_loss: 0.5148 - val_acc: 0.8245\n",
      "Epoch 85/100\n",
      "250/250 [==============================] - 114s - loss: 0.1374 - acc: 0.9471 - val_loss: 0.4909 - val_acc: 0.8245\n",
      "Epoch 86/100\n",
      "250/250 [==============================] - 114s - loss: 0.1498 - acc: 0.9394 - val_loss: 0.4629 - val_acc: 0.8575\n",
      "Epoch 87/100\n",
      "250/250 [==============================] - 113s - loss: 0.1515 - acc: 0.9384 - val_loss: 0.5109 - val_acc: 0.8445\n",
      "Epoch 88/100\n",
      "250/250 [==============================] - 114s - loss: 0.1297 - acc: 0.9466 - val_loss: 0.4813 - val_acc: 0.8485\n",
      "Epoch 89/100\n",
      "250/250 [==============================] - 113s - loss: 0.1409 - acc: 0.9440 - val_loss: 0.5086 - val_acc: 0.8380\n",
      "Epoch 90/100\n",
      "250/250 [==============================] - 114s - loss: 0.1328 - acc: 0.9462 - val_loss: 0.4701 - val_acc: 0.8500\n",
      "Epoch 91/100\n",
      " 91/250 [=========>....................] - ETA: 65s - loss: 0.1430 - acc: 0.9416"
     ]
    }
   ],
   "source": [
    "tboard = TensorBoard(log_dir=\"./logs/final/{}\".format(time.time()), histogram_freq=1, write_graph=True, write_images=True)\n",
    "\n",
    "classifier.fit_generator( \n",
    "        training_set,\n",
    "        steps_per_epoch=8000/32,\n",
    "        epochs=100,\n",
    "        validation_data=test_set,\n",
    "        validation_steps=2000/32,workers=5,\n",
    "    callbacks=[tboard]\n",
    ")"
   ]
  },
  {
   "cell_type": "code",
   "execution_count": null,
   "metadata": {
    "collapsed": true
   },
   "outputs": [],
   "source": [
    "\n",
    "# first attempt - 84\n",
    "# added droup - 74\n",
    "# increased first FC to 128 - 74"
   ]
  },
  {
   "cell_type": "code",
   "execution_count": null,
   "metadata": {
    "collapsed": false
   },
   "outputs": [],
   "source": [
    "import numpy as np\n",
    "from keras.preprocessing import image\n",
    "test_image = image.load_img('../instructor/dataset/single_prediction/cat_or_dog_1.jpg',target_size=(64,64))\n",
    "test_image = image.img_to_array(test_image)\n",
    "# for adding another dimension as \n",
    "# the model expects input as batch\n",
    "print(test_image.shape)\n",
    "test_image = np.expand_dims(test_image, axis=0)\n",
    "print(test_image.shape)"
   ]
  },
  {
   "cell_type": "code",
   "execution_count": null,
   "metadata": {
    "collapsed": false
   },
   "outputs": [],
   "source": [
    "image.load_img('../instructor/dataset/single_prediction/cat_or_dog_1.jpg',target_size=(64,64))"
   ]
  },
  {
   "cell_type": "code",
   "execution_count": null,
   "metadata": {
    "collapsed": false,
    "scrolled": true
   },
   "outputs": [],
   "source": [
    "result = classifier.predict(test_image)"
   ]
  },
  {
   "cell_type": "code",
   "execution_count": null,
   "metadata": {
    "collapsed": false
   },
   "outputs": [],
   "source": [
    "result"
   ]
  },
  {
   "cell_type": "code",
   "execution_count": null,
   "metadata": {
    "collapsed": false
   },
   "outputs": [],
   "source": [
    "training_set.class_indices"
   ]
  },
  {
   "cell_type": "code",
   "execution_count": null,
   "metadata": {
    "collapsed": true
   },
   "outputs": [],
   "source": [
    "\n",
    "# have to improve accuracies like this\n",
    "# https://www.udemy.com/deeplearning/learn/v4/questions/2276518\n",
    "\n"
   ]
  },
  {
   "cell_type": "code",
   "execution_count": null,
   "metadata": {
    "collapsed": true
   },
   "outputs": [],
   "source": []
  }
 ],
 "metadata": {
  "anaconda-cloud": {},
  "kernelspec": {
   "display_name": "Python [default]",
   "language": "python",
   "name": "python3"
  },
  "language_info": {
   "codemirror_mode": {
    "name": "ipython",
    "version": 3
   },
   "file_extension": ".py",
   "mimetype": "text/x-python",
   "name": "python",
   "nbconvert_exporter": "python",
   "pygments_lexer": "ipython3",
   "version": "3.5.2"
  }
 },
 "nbformat": 4,
 "nbformat_minor": 2
}
