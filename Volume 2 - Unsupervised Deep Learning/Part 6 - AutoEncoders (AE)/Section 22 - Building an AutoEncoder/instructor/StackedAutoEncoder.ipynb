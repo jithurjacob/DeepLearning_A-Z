{
 "cells": [
  {
   "cell_type": "code",
   "execution_count": 2,
   "metadata": {
    "collapsed": true
   },
   "outputs": [],
   "source": [
    "import numpy as np\n",
    "import pandas as pd\n",
    "import torch\n",
    "import torch.nn as nn\n",
    "import torch.nn.parallel\n",
    "import torch.optim as optim\n",
    "import torch.utils.data\n",
    "from torch.autograd import Variable"
   ]
  },
  {
   "cell_type": "code",
   "execution_count": 3,
   "metadata": {
    "collapsed": true
   },
   "outputs": [],
   "source": [
    "movies = pd.read_csv(\"./ml-1m/movies.dat\",\n",
    "                    sep=\"::\",\n",
    "                    header=None,\n",
    "                    engine='python',\n",
    "                    encoding='latin-1')"
   ]
  },
  {
   "cell_type": "code",
   "execution_count": 4,
   "metadata": {},
   "outputs": [
    {
     "data": {
      "text/html": [
       "<div>\n",
       "<style>\n",
       "    .dataframe thead tr:only-child th {\n",
       "        text-align: right;\n",
       "    }\n",
       "\n",
       "    .dataframe thead th {\n",
       "        text-align: left;\n",
       "    }\n",
       "\n",
       "    .dataframe tbody tr th {\n",
       "        vertical-align: top;\n",
       "    }\n",
       "</style>\n",
       "<table border=\"1\" class=\"dataframe\">\n",
       "  <thead>\n",
       "    <tr style=\"text-align: right;\">\n",
       "      <th></th>\n",
       "      <th>0</th>\n",
       "      <th>1</th>\n",
       "      <th>2</th>\n",
       "    </tr>\n",
       "  </thead>\n",
       "  <tbody>\n",
       "    <tr>\n",
       "      <th>0</th>\n",
       "      <td>1</td>\n",
       "      <td>Toy Story (1995)</td>\n",
       "      <td>Animation|Children's|Comedy</td>\n",
       "    </tr>\n",
       "    <tr>\n",
       "      <th>1</th>\n",
       "      <td>2</td>\n",
       "      <td>Jumanji (1995)</td>\n",
       "      <td>Adventure|Children's|Fantasy</td>\n",
       "    </tr>\n",
       "    <tr>\n",
       "      <th>2</th>\n",
       "      <td>3</td>\n",
       "      <td>Grumpier Old Men (1995)</td>\n",
       "      <td>Comedy|Romance</td>\n",
       "    </tr>\n",
       "    <tr>\n",
       "      <th>3</th>\n",
       "      <td>4</td>\n",
       "      <td>Waiting to Exhale (1995)</td>\n",
       "      <td>Comedy|Drama</td>\n",
       "    </tr>\n",
       "    <tr>\n",
       "      <th>4</th>\n",
       "      <td>5</td>\n",
       "      <td>Father of the Bride Part II (1995)</td>\n",
       "      <td>Comedy</td>\n",
       "    </tr>\n",
       "  </tbody>\n",
       "</table>\n",
       "</div>"
      ],
      "text/plain": [
       "   0                                   1                             2\n",
       "0  1                    Toy Story (1995)   Animation|Children's|Comedy\n",
       "1  2                      Jumanji (1995)  Adventure|Children's|Fantasy\n",
       "2  3             Grumpier Old Men (1995)                Comedy|Romance\n",
       "3  4            Waiting to Exhale (1995)                  Comedy|Drama\n",
       "4  5  Father of the Bride Part II (1995)                        Comedy"
      ]
     },
     "execution_count": 4,
     "metadata": {},
     "output_type": "execute_result"
    }
   ],
   "source": [
    "movies.head()"
   ]
  },
  {
   "cell_type": "code",
   "execution_count": 5,
   "metadata": {
    "collapsed": true
   },
   "outputs": [],
   "source": [
    "users =  pd.read_csv(\"./ml-1m/users.dat\",\n",
    "                    sep=\"::\",\n",
    "                    header=None,\n",
    "                    engine='python',\n",
    "                    encoding='latin-1')"
   ]
  },
  {
   "cell_type": "code",
   "execution_count": 6,
   "metadata": {},
   "outputs": [
    {
     "data": {
      "text/html": [
       "<div>\n",
       "<style>\n",
       "    .dataframe thead tr:only-child th {\n",
       "        text-align: right;\n",
       "    }\n",
       "\n",
       "    .dataframe thead th {\n",
       "        text-align: left;\n",
       "    }\n",
       "\n",
       "    .dataframe tbody tr th {\n",
       "        vertical-align: top;\n",
       "    }\n",
       "</style>\n",
       "<table border=\"1\" class=\"dataframe\">\n",
       "  <thead>\n",
       "    <tr style=\"text-align: right;\">\n",
       "      <th></th>\n",
       "      <th>0</th>\n",
       "      <th>1</th>\n",
       "      <th>2</th>\n",
       "      <th>3</th>\n",
       "      <th>4</th>\n",
       "    </tr>\n",
       "  </thead>\n",
       "  <tbody>\n",
       "    <tr>\n",
       "      <th>0</th>\n",
       "      <td>1</td>\n",
       "      <td>F</td>\n",
       "      <td>1</td>\n",
       "      <td>10</td>\n",
       "      <td>48067</td>\n",
       "    </tr>\n",
       "    <tr>\n",
       "      <th>1</th>\n",
       "      <td>2</td>\n",
       "      <td>M</td>\n",
       "      <td>56</td>\n",
       "      <td>16</td>\n",
       "      <td>70072</td>\n",
       "    </tr>\n",
       "    <tr>\n",
       "      <th>2</th>\n",
       "      <td>3</td>\n",
       "      <td>M</td>\n",
       "      <td>25</td>\n",
       "      <td>15</td>\n",
       "      <td>55117</td>\n",
       "    </tr>\n",
       "    <tr>\n",
       "      <th>3</th>\n",
       "      <td>4</td>\n",
       "      <td>M</td>\n",
       "      <td>45</td>\n",
       "      <td>7</td>\n",
       "      <td>02460</td>\n",
       "    </tr>\n",
       "    <tr>\n",
       "      <th>4</th>\n",
       "      <td>5</td>\n",
       "      <td>M</td>\n",
       "      <td>25</td>\n",
       "      <td>20</td>\n",
       "      <td>55455</td>\n",
       "    </tr>\n",
       "  </tbody>\n",
       "</table>\n",
       "</div>"
      ],
      "text/plain": [
       "   0  1   2   3      4\n",
       "0  1  F   1  10  48067\n",
       "1  2  M  56  16  70072\n",
       "2  3  M  25  15  55117\n",
       "3  4  M  45   7  02460\n",
       "4  5  M  25  20  55455"
      ]
     },
     "execution_count": 6,
     "metadata": {},
     "output_type": "execute_result"
    }
   ],
   "source": [
    "users.head()"
   ]
  },
  {
   "cell_type": "code",
   "execution_count": 7,
   "metadata": {
    "collapsed": true
   },
   "outputs": [],
   "source": [
    "ratings = pd.read_csv(\"./ml-1m/ratings.dat\",\n",
    "                    sep=\"::\",\n",
    "                    header=None,\n",
    "                    engine='python',\n",
    "                    encoding='latin-1')"
   ]
  },
  {
   "cell_type": "code",
   "execution_count": 8,
   "metadata": {},
   "outputs": [
    {
     "data": {
      "text/html": [
       "<div>\n",
       "<style>\n",
       "    .dataframe thead tr:only-child th {\n",
       "        text-align: right;\n",
       "    }\n",
       "\n",
       "    .dataframe thead th {\n",
       "        text-align: left;\n",
       "    }\n",
       "\n",
       "    .dataframe tbody tr th {\n",
       "        vertical-align: top;\n",
       "    }\n",
       "</style>\n",
       "<table border=\"1\" class=\"dataframe\">\n",
       "  <thead>\n",
       "    <tr style=\"text-align: right;\">\n",
       "      <th></th>\n",
       "      <th>0</th>\n",
       "      <th>1</th>\n",
       "      <th>2</th>\n",
       "      <th>3</th>\n",
       "    </tr>\n",
       "  </thead>\n",
       "  <tbody>\n",
       "    <tr>\n",
       "      <th>0</th>\n",
       "      <td>1</td>\n",
       "      <td>1193</td>\n",
       "      <td>5</td>\n",
       "      <td>978300760</td>\n",
       "    </tr>\n",
       "    <tr>\n",
       "      <th>1</th>\n",
       "      <td>1</td>\n",
       "      <td>661</td>\n",
       "      <td>3</td>\n",
       "      <td>978302109</td>\n",
       "    </tr>\n",
       "    <tr>\n",
       "      <th>2</th>\n",
       "      <td>1</td>\n",
       "      <td>914</td>\n",
       "      <td>3</td>\n",
       "      <td>978301968</td>\n",
       "    </tr>\n",
       "    <tr>\n",
       "      <th>3</th>\n",
       "      <td>1</td>\n",
       "      <td>3408</td>\n",
       "      <td>4</td>\n",
       "      <td>978300275</td>\n",
       "    </tr>\n",
       "    <tr>\n",
       "      <th>4</th>\n",
       "      <td>1</td>\n",
       "      <td>2355</td>\n",
       "      <td>5</td>\n",
       "      <td>978824291</td>\n",
       "    </tr>\n",
       "  </tbody>\n",
       "</table>\n",
       "</div>"
      ],
      "text/plain": [
       "   0     1  2          3\n",
       "0  1  1193  5  978300760\n",
       "1  1   661  3  978302109\n",
       "2  1   914  3  978301968\n",
       "3  1  3408  4  978300275\n",
       "4  1  2355  5  978824291"
      ]
     },
     "execution_count": 8,
     "metadata": {},
     "output_type": "execute_result"
    }
   ],
   "source": [
    "ratings.head()"
   ]
  },
  {
   "cell_type": "code",
   "execution_count": 9,
   "metadata": {
    "collapsed": true
   },
   "outputs": [],
   "source": [
    "training_set = pd.read_csv(\"./ml-100k/u1.base\",\n",
    "                          delimiter=\"\\t\")"
   ]
  },
  {
   "cell_type": "code",
   "execution_count": 10,
   "metadata": {},
   "outputs": [
    {
     "data": {
      "text/html": [
       "<div>\n",
       "<style>\n",
       "    .dataframe thead tr:only-child th {\n",
       "        text-align: right;\n",
       "    }\n",
       "\n",
       "    .dataframe thead th {\n",
       "        text-align: left;\n",
       "    }\n",
       "\n",
       "    .dataframe tbody tr th {\n",
       "        vertical-align: top;\n",
       "    }\n",
       "</style>\n",
       "<table border=\"1\" class=\"dataframe\">\n",
       "  <thead>\n",
       "    <tr style=\"text-align: right;\">\n",
       "      <th></th>\n",
       "      <th>1</th>\n",
       "      <th>1.1</th>\n",
       "      <th>5</th>\n",
       "      <th>874965758</th>\n",
       "    </tr>\n",
       "  </thead>\n",
       "  <tbody>\n",
       "    <tr>\n",
       "      <th>0</th>\n",
       "      <td>1</td>\n",
       "      <td>2</td>\n",
       "      <td>3</td>\n",
       "      <td>876893171</td>\n",
       "    </tr>\n",
       "    <tr>\n",
       "      <th>1</th>\n",
       "      <td>1</td>\n",
       "      <td>3</td>\n",
       "      <td>4</td>\n",
       "      <td>878542960</td>\n",
       "    </tr>\n",
       "    <tr>\n",
       "      <th>2</th>\n",
       "      <td>1</td>\n",
       "      <td>4</td>\n",
       "      <td>3</td>\n",
       "      <td>876893119</td>\n",
       "    </tr>\n",
       "    <tr>\n",
       "      <th>3</th>\n",
       "      <td>1</td>\n",
       "      <td>5</td>\n",
       "      <td>3</td>\n",
       "      <td>889751712</td>\n",
       "    </tr>\n",
       "    <tr>\n",
       "      <th>4</th>\n",
       "      <td>1</td>\n",
       "      <td>7</td>\n",
       "      <td>4</td>\n",
       "      <td>875071561</td>\n",
       "    </tr>\n",
       "  </tbody>\n",
       "</table>\n",
       "</div>"
      ],
      "text/plain": [
       "   1  1.1  5  874965758\n",
       "0  1    2  3  876893171\n",
       "1  1    3  4  878542960\n",
       "2  1    4  3  876893119\n",
       "3  1    5  3  889751712\n",
       "4  1    7  4  875071561"
      ]
     },
     "execution_count": 10,
     "metadata": {},
     "output_type": "execute_result"
    }
   ],
   "source": [
    "training_set.head()"
   ]
  },
  {
   "cell_type": "code",
   "execution_count": 11,
   "metadata": {
    "collapsed": true
   },
   "outputs": [],
   "source": [
    "# user 1 rated movie 2, 3 stars"
   ]
  },
  {
   "cell_type": "code",
   "execution_count": 12,
   "metadata": {
    "collapsed": true
   },
   "outputs": [],
   "source": [
    "training_set = np.array(training_set,\n",
    "                        dtype='int')"
   ]
  },
  {
   "cell_type": "code",
   "execution_count": 13,
   "metadata": {
    "collapsed": true
   },
   "outputs": [],
   "source": [
    "test_set = pd.read_csv(\"./ml-100k/u1.test\",\n",
    "                          delimiter=\"\\t\")\n",
    "test_set = np.array(test_set,\n",
    "                        dtype='int')"
   ]
  },
  {
   "cell_type": "code",
   "execution_count": 14,
   "metadata": {
    "collapsed": true
   },
   "outputs": [],
   "source": [
    "# Getting the number of users and movies\n",
    "nb_users = int(max(max(training_set[:,0]),max(test_set[:,0])))\n",
    "nb_movies = int(max(max(training_set[:,1]),max(test_set[:,1])))\n"
   ]
  },
  {
   "cell_type": "code",
   "execution_count": 15,
   "metadata": {
    "collapsed": true
   },
   "outputs": [],
   "source": [
    "# convert data into array with users in row movies in col\n",
    "def convert(data):\n",
    "    new_data = []\n",
    "    for id_users in range(1,nb_users+1):\n",
    "        id_movies = data[:,1][data[:,0]==id_users]\n",
    "        id_ratings = data[:,2][data[:,0]==id_users] \n",
    "        ratings = np.zeros(nb_movies)\n",
    "        ratings[id_movies - 1] = id_ratings\n",
    "        new_data.append(list(ratings))\n",
    "    return new_data\n",
    "training_set = convert(training_set)\n",
    "test_set = convert(test_set)"
   ]
  },
  {
   "cell_type": "code",
   "execution_count": null,
   "metadata": {
    "collapsed": true
   },
   "outputs": [],
   "source": []
  },
  {
   "cell_type": "code",
   "execution_count": 16,
   "metadata": {
    "collapsed": true
   },
   "outputs": [],
   "source": [
    "# converting the data into Torch tensors\n",
    "training_set = torch.FloatTensor(training_set)"
   ]
  },
  {
   "cell_type": "code",
   "execution_count": 17,
   "metadata": {
    "collapsed": true
   },
   "outputs": [],
   "source": [
    "test_set = torch.FloatTensor(test_set)"
   ]
  },
  {
   "cell_type": "code",
   "execution_count": 18,
   "metadata": {
    "collapsed": true
   },
   "outputs": [],
   "source": [
    "#convert the ratings into binary ratings 1 (liked) and 0 (not liked)\n",
    "training_set[training_set == 0] = -1 \n",
    "training_set[training_set == 1] = 0\n",
    "training_set[training_set == 2] = 0 \n",
    "training_set[training_set >= 3] = 1"
   ]
  },
  {
   "cell_type": "code",
   "execution_count": 19,
   "metadata": {
    "collapsed": true
   },
   "outputs": [],
   "source": [
    "test_set[test_set == 0] = -1 \n",
    "test_set[test_set == 1] = 0\n",
    "test_set[test_set == 2] = 0 \n",
    "test_set[test_set >= 3] = 1"
   ]
  },
  {
   "cell_type": "code",
   "execution_count": 20,
   "metadata": {},
   "outputs": [],
   "source": [
    "# creating the architecture of th NN\n",
    "class SAE(nn.Module):\n",
    "    def __init__(self):\n",
    "        super(SAE, self).__init__()\n",
    "        self.fc1 = nn.Linear(nb_movies, 20) # first full conn related to AE\n",
    "                        # 20 nodes in first layer based on experiment\n",
    "        self.fc2 = nn.Linear(20, 10)\n",
    "        self.fc3 = nn.Linear(10, 20) # decoding\n",
    "        self.fc4 = nn.Linear(20, nb_movies) # decoding\n",
    "        self.activation = nn.Sigmoid()\n",
    "    \n",
    "    def forward(self, x):\n",
    "        x = self.activation(self.fc1(x)) # x is the input we encode it to get the new input for other layers\n",
    "        x = self.activation(self.fc2(x))\n",
    "        x = self.activation(self.fc3(x))\n",
    "        x = self.fc4(x) # as it is last layer no need to activate\n",
    "        return x\n",
    "    \n",
    "        "
   ]
  },
  {
   "cell_type": "code",
   "execution_count": 23,
   "metadata": {
    "collapsed": true
   },
   "outputs": [],
   "source": [
    "sae = SAE()\n",
    "criterion = nn.MSELoss()\n",
    "optimizer = optim.RMSprop(sae.parameters(), lr=0.01, weight_decay=0.5) # rmsprop or adam\n",
    "                                                        # decay reduces lr per epoch"
   ]
  },
  {
   "cell_type": "code",
   "execution_count": 26,
   "metadata": {
    "scrolled": true
   },
   "outputs": [
    {
     "name": "stdout",
     "output_type": "stream",
     "text": [
      "epoch 1 train loss 1.82798624412\n",
      "epoch 2 train loss 1.82802893396\n",
      "epoch 3 train loss 1.8285193833\n",
      "epoch 4 train loss 1.82764103203\n",
      "epoch 5 train loss 1.82806072787\n",
      "epoch 6 train loss 1.8273230385\n",
      "epoch 7 train loss 1.82769977666\n",
      "epoch 8 train loss 1.82626810181\n",
      "epoch 9 train loss 1.82679140303\n",
      "epoch 10 train loss 1.82542770814\n",
      "epoch 11 train loss 1.8299314668\n",
      "epoch 12 train loss 1.82685539901\n",
      "epoch 13 train loss 1.8273053466\n",
      "epoch 14 train loss 1.82601864739\n",
      "epoch 15 train loss 1.82688608681\n",
      "epoch 16 train loss 1.82673168651\n",
      "epoch 17 train loss 1.82749747508\n",
      "epoch 18 train loss 1.82671417672\n",
      "epoch 19 train loss 1.82716760723\n",
      "epoch 20 train loss 1.82547779526\n",
      "epoch 21 train loss 1.82536338848\n",
      "epoch 22 train loss 1.82634005517\n",
      "epoch 23 train loss 1.8267282068\n",
      "epoch 24 train loss 1.82424911443\n",
      "epoch 25 train loss 1.82548006971\n",
      "epoch 26 train loss 1.82469146715\n",
      "epoch 27 train loss 1.82602284409\n",
      "epoch 28 train loss 1.82550487027\n",
      "epoch 29 train loss 1.82711138501\n",
      "epoch 30 train loss 1.82543619723\n",
      "epoch 31 train loss 1.82588056747\n",
      "epoch 32 train loss 1.82480040832\n",
      "epoch 33 train loss 1.82521417096\n",
      "epoch 34 train loss 1.82482191026\n",
      "epoch 35 train loss 1.82584419327\n",
      "epoch 36 train loss 1.82393965417\n",
      "epoch 37 train loss 1.82479622551\n",
      "epoch 38 train loss 1.82282428198\n",
      "epoch 39 train loss 1.82313485711\n",
      "epoch 40 train loss 1.82199469596\n",
      "epoch 41 train loss 1.82235409038\n",
      "epoch 42 train loss 1.82278478228\n",
      "epoch 43 train loss 1.82359278202\n",
      "epoch 44 train loss 1.82577217512\n",
      "epoch 45 train loss 1.82426567511\n",
      "epoch 46 train loss 1.82330578915\n",
      "epoch 47 train loss 1.82409024045\n",
      "epoch 48 train loss 1.82467986525\n",
      "epoch 49 train loss 1.82431983166\n",
      "epoch 50 train loss 1.82362869166\n",
      "epoch 51 train loss 1.82320158516\n",
      "epoch 52 train loss 1.82256496964\n",
      "epoch 53 train loss 1.8234676403\n",
      "epoch 54 train loss 1.82400366263\n",
      "epoch 55 train loss 1.82419813477\n",
      "epoch 56 train loss 1.82359207939\n",
      "epoch 57 train loss 1.8236583099\n",
      "epoch 58 train loss 1.82279808023\n",
      "epoch 59 train loss 1.82284333949\n",
      "epoch 60 train loss 1.8228729612\n",
      "epoch 61 train loss 1.82149070423\n",
      "epoch 62 train loss 1.82136193027\n",
      "epoch 63 train loss 1.82111196285\n",
      "epoch 64 train loss 1.82092997821\n",
      "epoch 65 train loss 1.82167622228\n",
      "epoch 66 train loss 1.82103307958\n",
      "epoch 67 train loss 1.82136495239\n",
      "epoch 68 train loss 1.82281602305\n",
      "epoch 69 train loss 1.81972046956\n",
      "epoch 70 train loss 1.81956613054\n",
      "epoch 71 train loss 1.81986413085\n",
      "epoch 72 train loss 1.82315324262\n",
      "epoch 73 train loss 1.82060005193\n",
      "epoch 74 train loss 1.82128702611\n",
      "epoch 75 train loss 1.82074670122\n",
      "epoch 76 train loss 1.82063026809\n",
      "epoch 77 train loss 1.82056512372\n",
      "epoch 78 train loss 1.82089326924\n",
      "epoch 79 train loss 1.82088901473\n",
      "epoch 80 train loss 1.81851996814\n",
      "epoch 81 train loss 1.82005328461\n",
      "epoch 82 train loss 1.81817471622\n",
      "epoch 83 train loss 1.81905047403\n",
      "epoch 84 train loss 1.81809239794\n",
      "epoch 85 train loss 1.81892929907\n",
      "epoch 86 train loss 1.81746837025\n",
      "epoch 87 train loss 1.81837979649\n",
      "epoch 88 train loss 1.81938264366\n",
      "epoch 89 train loss 1.81998784977\n",
      "epoch 90 train loss 1.81898678367\n",
      "epoch 91 train loss 1.81996137057\n",
      "epoch 92 train loss 1.82027700082\n",
      "epoch 93 train loss 1.81844143153\n",
      "epoch 94 train loss 1.81949004221\n",
      "epoch 95 train loss 1.8183280147\n",
      "epoch 96 train loss 1.81959935666\n",
      "epoch 97 train loss 1.81935451288\n",
      "epoch 98 train loss 1.81716862769\n",
      "epoch 99 train loss 1.81810395163\n",
      "epoch 100 train loss 1.81673781156\n",
      "epoch 101 train loss 1.81640940418\n",
      "epoch 102 train loss 1.81745940014\n",
      "epoch 103 train loss 1.81574140198\n",
      "epoch 104 train loss 1.81639075968\n",
      "epoch 105 train loss 1.81691191211\n",
      "epoch 106 train loss 1.81623687979\n",
      "epoch 107 train loss 1.81608987454\n",
      "epoch 108 train loss 1.81718706795\n",
      "epoch 109 train loss 1.8190972295\n",
      "epoch 110 train loss 1.81742535702\n",
      "epoch 111 train loss 1.81618013849\n",
      "epoch 112 train loss 1.81557708493\n",
      "epoch 113 train loss 1.81820388911\n",
      "epoch 114 train loss 1.81756852898\n",
      "epoch 115 train loss 1.81642932952\n",
      "epoch 116 train loss 1.81555417058\n",
      "epoch 117 train loss 1.81558919971\n",
      "epoch 118 train loss 1.81608710001\n",
      "epoch 119 train loss 1.81674337769\n",
      "epoch 120 train loss 1.81614211682\n",
      "epoch 121 train loss 1.81701701561\n",
      "epoch 122 train loss 1.81769040057\n",
      "epoch 123 train loss 1.81630039577\n",
      "epoch 124 train loss 1.81483313345\n",
      "epoch 125 train loss 1.81746185765\n",
      "epoch 126 train loss 1.81763015429\n",
      "epoch 127 train loss 1.81660795733\n",
      "epoch 128 train loss 1.81631250616\n",
      "epoch 129 train loss 1.81623446143\n",
      "epoch 130 train loss 1.81704100737\n",
      "epoch 131 train loss 1.81656027002\n",
      "epoch 132 train loss 1.81646100183\n",
      "epoch 133 train loss 1.81632652599\n",
      "epoch 134 train loss 1.8156600578\n",
      "epoch 135 train loss 1.81635336246\n",
      "epoch 136 train loss 1.8141523189\n",
      "epoch 137 train loss 1.81726239507\n",
      "epoch 138 train loss 1.81624466735\n",
      "epoch 139 train loss 1.81646539545\n",
      "epoch 140 train loss 1.81560725938\n",
      "epoch 141 train loss 1.8160385258\n",
      "epoch 142 train loss 1.81627378834\n",
      "epoch 143 train loss 1.8163604467\n",
      "epoch 144 train loss 1.81729776866\n",
      "epoch 145 train loss 1.81785128996\n",
      "epoch 146 train loss 1.81627886417\n",
      "epoch 147 train loss 1.81665889208\n",
      "epoch 148 train loss 1.81478216406\n",
      "epoch 149 train loss 1.81499112195\n",
      "epoch 150 train loss 1.81427044406\n",
      "epoch 151 train loss 1.81663225901\n",
      "epoch 152 train loss 1.8145656478\n",
      "epoch 153 train loss 1.813996839\n",
      "epoch 154 train loss 1.81445067099\n",
      "epoch 155 train loss 1.81180668735\n",
      "epoch 156 train loss 1.81046502298\n",
      "epoch 157 train loss 1.81214308994\n",
      "epoch 158 train loss 1.81182793196\n",
      "epoch 159 train loss 1.8110481828\n",
      "epoch 160 train loss 1.80988816654\n",
      "epoch 161 train loss 1.81189092021\n",
      "epoch 162 train loss 1.81031519201\n",
      "epoch 163 train loss 1.81143937333\n",
      "epoch 164 train loss 1.80926927084\n",
      "epoch 165 train loss 1.81206528268\n",
      "epoch 166 train loss 1.80982015392\n",
      "epoch 167 train loss 1.81147048606\n",
      "epoch 168 train loss 1.81046603946\n",
      "epoch 169 train loss 1.80887779563\n",
      "epoch 170 train loss 1.80640395414\n",
      "epoch 171 train loss 1.8085236238\n",
      "epoch 172 train loss 1.80970151275\n",
      "epoch 173 train loss 1.80719886182\n",
      "epoch 174 train loss 1.80720845094\n",
      "epoch 175 train loss 1.80805238162\n",
      "epoch 176 train loss 1.80789706829\n",
      "epoch 177 train loss 1.80777024487\n",
      "epoch 178 train loss 1.80484637046\n",
      "epoch 179 train loss 1.80689478372\n",
      "epoch 180 train loss 1.80677980139\n",
      "epoch 181 train loss 1.80545849713\n",
      "epoch 182 train loss 1.80771753187\n",
      "epoch 183 train loss 1.80570422087\n",
      "epoch 184 train loss 1.80427153432\n",
      "epoch 185 train loss 1.80709229301\n",
      "epoch 186 train loss 1.80609357885\n",
      "epoch 187 train loss 1.80549632307\n",
      "epoch 188 train loss 1.80387129466\n",
      "epoch 189 train loss 1.80109867736\n",
      "epoch 190 train loss 1.80157420855\n",
      "epoch 191 train loss 1.80413401213\n",
      "epoch 192 train loss 1.80216934904\n",
      "epoch 193 train loss 1.80138073808\n",
      "epoch 194 train loss 1.80068624811\n",
      "epoch 195 train loss 1.80217409306\n",
      "epoch 196 train loss 1.80089397718\n",
      "epoch 197 train loss 1.80143328459\n",
      "epoch 198 train loss 1.79983266919\n",
      "epoch 199 train loss 1.79921852681\n",
      "epoch 200 train loss 1.80121637157\n"
     ]
    }
   ],
   "source": [
    "# training the SAE\n",
    "nb_epoch = 200\n",
    "for epoch in range(1,nb_epoch+1):\n",
    "    train_loss = 0\n",
    "    s = 0.\n",
    "    for id_user in range(nb_users):\n",
    "        input = Variable(training_set[id_user]).unsqueeze(0) # creating abtch\n",
    "        target = input.clone()\n",
    "        if torch.sum(target.data>0) > 0:\n",
    "            output = sae(input)\n",
    "            target.require_grad = False\n",
    "            output[target == 0] = 0\n",
    "            loss = criterion(output, target)\n",
    "            mean_corrector = nb_movies/float(torch.sum(target.data>0)+1e-10) # 1e-10 to preven div by 0\n",
    "            loss.backward()\n",
    "            train_loss += np.sqrt(loss.data[0]*mean_corrector)\n",
    "            s += 1.\n",
    "            optimizer.step()\n",
    "    print(\"epoch %s train loss %s\"%(epoch,train_loss/s))"
   ]
  },
  {
   "cell_type": "code",
   "execution_count": null,
   "metadata": {
    "collapsed": true
   },
   "outputs": [],
   "source": [
    "# loss should be less than 1"
   ]
  },
  {
   "cell_type": "code",
   "execution_count": null,
   "metadata": {
    "collapsed": true
   },
   "outputs": [],
   "source": [
    "# Testing the SAE"
   ]
  },
  {
   "cell_type": "code",
   "execution_count": 27,
   "metadata": {},
   "outputs": [
    {
     "name": "stdout",
     "output_type": "stream",
     "text": [
      "test loss 2.24569293067\n"
     ]
    }
   ],
   "source": [
    "test_loss = 0\n",
    "s = 0.\n",
    "for id_user in range(nb_users):\n",
    "    input = Variable(training_set[id_user]).unsqueeze(0) # creating abtch\n",
    "    target = Variable(test_set[id_user]).unsqueeze(0)\n",
    "    if torch.sum(target.data>0) > 0:\n",
    "        output = sae(input)\n",
    "        target.require_grad = False\n",
    "        output[target == 0] = 0\n",
    "        loss = criterion(output, target)\n",
    "        mean_corrector = nb_movies/float(torch.sum(target.data>0)+1e-10) # 1e-10 to preven div by 0\n",
    "        test_loss += np.sqrt(loss.data[0]*mean_corrector)\n",
    "        s += 1.\n",
    "\n",
    "print(\"test loss %s\"%(test_loss/s))"
   ]
  },
  {
   "cell_type": "code",
   "execution_count": null,
   "metadata": {
    "collapsed": true
   },
   "outputs": [],
   "source": []
  },
  {
   "cell_type": "code",
   "execution_count": null,
   "metadata": {
    "collapsed": true
   },
   "outputs": [],
   "source": []
  }
 ],
 "metadata": {
  "kernelspec": {
   "display_name": "Python 3",
   "language": "python",
   "name": "python3"
  },
  "language_info": {
   "codemirror_mode": {
    "name": "ipython",
    "version": 3
   },
   "file_extension": ".py",
   "mimetype": "text/x-python",
   "name": "python",
   "nbconvert_exporter": "python",
   "pygments_lexer": "ipython3",
   "version": "3.5.2+"
  }
 },
 "nbformat": 4,
 "nbformat_minor": 2
}
